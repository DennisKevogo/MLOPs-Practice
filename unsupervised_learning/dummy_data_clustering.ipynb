{
 "cells": [
  {
   "cell_type": "markdown",
   "id": "672ee0e6",
   "metadata": {},
   "source": [
    "## 🔘 Create dummy data for `Clustering`\n",
    "\n",
    "`sklearn.datasets.make_blobs()` Generates isotropic Gaussian blobs for clustering."
   ]
  },
  {
   "cell_type": "code",
   "execution_count": 1,
   "id": "2e343277",
   "metadata": {},
   "outputs": [],
   "source": [
    "from sklearn.datasets import make_blobs\n",
    "import matplotlib.pyplot as plt"
   ]
  },
  {
   "cell_type": "markdown",
   "id": "d0b4791b",
   "metadata": {},
   "source": [
    "**Make Dataset**"
   ]
  },
  {
   "cell_type": "code",
   "execution_count": 2,
   "id": "1104be50",
   "metadata": {},
   "outputs": [],
   "source": [
    "# Make the features (X) and output (y) with 200 samples,\n",
    "X, y = make_blobs(n_samples = 100,\n",
    "                  n_features = 2, # dimension of each data point,\n",
    "                  centers = 3, # number of clusters,\n",
    "                  cluster_std = 0.5, # std deviation of each cluster\n",
    "                 )"
   ]
  },
  {
   "cell_type": "markdown",
   "id": "81072c52",
   "metadata": {},
   "source": [
    "**Plot Blobs**"
   ]
  },
  {
   "cell_type": "code",
   "execution_count": 3,
   "id": "4f7785d5",
   "metadata": {},
   "outputs": [
    {
     "data": {
      "image/png": "[encoded data removed]",
      "text/plain": [
       "<Figure size 432x288 with 1 Axes>"
      ]
     },
     "metadata": {
      "needs_background": "light"
     },
     "output_type": "display_data"
    }
   ],
   "source": [
    "plt.scatter(X[:,0], X[:,1])\n",
    "plt.show()"
   ]
  },
  {
   "cell_type": "markdown",
   "id": "df3f68aa",
   "metadata": {},
   "source": [
    "🔘 Hope you enjoyed reading!! 📖 <br>\n",
    "🔘 follow → `@akshay_pachaar`  "
   ]
  },
  {
   "cell_type": "code",
   "execution_count": null,
   "id": "694ef174",
   "metadata": {},
   "outputs": [],
   "source": []
  }
 ],
 "metadata": {
  "kernelspec": {
   "display_name": "env_twitter",
   "language": "python",
   "name": "env_twitter"
  },
  "language_info": {
   "codemirror_mode": {
    "name": "ipython",
    "version": 3
   },
   "file_extension": ".py",
   "mimetype": "text/x-python",
   "name": "python",
   "nbconvert_exporter": "python",
   "pygments_lexer": "ipython3",
   "version": "3.10.5"
  }
 },
 "nbformat": 4,
 "nbformat_minor": 5
}
